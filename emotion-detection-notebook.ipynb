{
 "cells": [
  {
   "cell_type": "markdown",
   "id": "c0b14e20",
   "metadata": {},
   "source": [
    "# Problem Definition"
   ]
  },
  {
   "cell_type": "markdown",
   "id": "08185833",
   "metadata": {},
   "source": [
    "Human beings are able to exhibit a variety of emotions in many forms: through facial expressions, speech, text, or even body language. Machine learning algorithms of the current age of technology are very good at classifying these emotions, even with slight nuances in the difference between emotions like sadness and anger or fear and worry. Emotion detection through facial expressions is highly invested in and the best of current models are able to differentiate between even the most similar expressions with very high accuracy. \n",
    "\n",
    "There have also been many models that aim to perform sentiment analysis on textual data. Most of the research in this area is involved in the classification of positive and negative sentiments from text like reviews and comments, which are helpful for product analysis. In this paper, I focus on emotion detection from textual data, but expand from the identification of positive and negative sentiments, to identification of a spectrum of emotions from text. The ability to identify specific emotions from textual data can be helpful, most especially, for social media data analysis and prediction. It can also help to improve algorithms that make use of emotion detection to make predictions (e.g. Grammarly's tone identification for text improvement predictions). \n",
    "\n",
    "To make this model, I will compare and contrast the efficiency of models based on different machine learning algorithms using different metrics, and provide conclusions on the best performing model, as well as potential improvements to the model to increase classification accuracy."
   ]
  },
  {
   "cell_type": "markdown",
   "id": "ee50a0c2",
   "metadata": {},
   "source": [
    "# Pre-processing"
   ]
  },
  {
   "cell_type": "markdown",
   "id": "ea5cbf08",
   "metadata": {},
   "source": [
    "The data I use for this model is prepared by Kaggle user [ishantjuyal](https://www.kaggle.com/ishantjuyal) (https://www.kaggle.com/datasets/ishantjuyal/emotions-in-text). It contains over 21,000 texts classified into 6 emotion classes: \"happy\" (renamed to \"happiness\" for consistency), \"sadness\", \"anger\", \"love\", \"fear\", and \"surprise\". \n",
    "\n",
    "I performed a number of preprocessing techniques on the data to convert it into a suitable format for the models to work with. First I cleaned the text data by removing stop words (short words that are not extremely relevant for the classification purposes), emails, hashtags and user tags, and punctation. After getting the final raw word data, I lemmatized the text data. This converts derivationally related words and to their base forms, thus making them easier to compare across different texts. For example, the lemmatization process converts both \"crying\" and \"cried\" to the base form \"cry\", so that they are categorized together when executing the model. Finally, I tokenized the text data, thus converting it into numerical format based on the individual words in the processed text. The text data has to be converted to a numerical format because the ML algorithms function only with mathematical operations on numerical data. "
   ]
  },
  {
   "cell_type": "markdown",
   "id": "8fc19572",
   "metadata": {},
   "source": [
    "# Solution Specification"
   ]
  },
  {
   "cell_type": "markdown",
   "id": "d55bb09f",
   "metadata": {},
   "source": [
    "I implemented a number of models for comparison. \n",
    "\n",
    "The first section of models are regular classification models. I used a Support Vector Classifier with an RBF kernel for classification, and then I tried transforming the input data further using dimensionality reduction (through PCA and LDA) and then applying the SVC. Finally, I implemented a Random Forest classifier on the data and computed the metrics. The Random Forest Classifier builds a number of decision trees on the data using different samples of the data, and then predicts the class of the testing data by pooling the classifications of these different decision trees. This was a new concept, so I believed it would be interesting to also explore this and compare its efficiency with the other methods I would implement. \n",
    "\n",
    "In the second section, I implement a neural network architecture to fit the model. In this network model, I make use of a new neural network layer: an LSTM. An LSTM, which stands for \"Long short-term memory\", is a neural network architecture used very largely in natural language processing. This is because LSTM's are designed to consider long-term relationships between words in language data. This allows the model to save and \"remember\" contextual information and dependencies across words in very long sentences, hence its name. I believe that such an architecture will prove helpful for emotion detection in text data, as some long sentences could contain contextual information about beared emotions in earlier parts of the sentences. "
   ]
  },
  {
   "cell_type": "markdown",
   "id": "4e8aabbd",
   "metadata": {},
   "source": [
    "# Testing and Analysis"
   ]
  },
  {
   "cell_type": "markdown",
   "id": "63b13628",
   "metadata": {},
   "source": [
    "After implementing the algorithms for each of the models, I compared the models by looking at their model accuracies and precisions from the classification. The results obtained from the model implementations showed that the neural network model performed better at classifying the data than the other less advanced models.\n",
    "\n",
    "In the first section, the basic models performed quite poorly; the model that performed the best of them was the random forest classifier with an accuracy of 35% on the testing data. The models failed to identify many of the classes in the testing data, and classified almost all of the samples as eiter 2 (\"love\") or 4 (\"fear\"). This could be a result of the larger number of classes each model has to classify the data into (the models would probably perform better if it were postiive-negative sentiment analysis). It could also be a result of the format in which the data was preproccessed into, which might not be one suitable for the models to make inferences or identify distringuishing features for the classes. \n",
    "\n",
    "In the second section, the neural network model performed way better. The network had 5 layers: an embedding layer for transforming the data, the LSTM layer which does most of the classification, and 3 dense layers with different activation functions to return the model's class prediction. I fitting the model with a maximum of 10 epochs, and stopped fitting when the testing accuracy was larger than 90%.\n",
    "\n",
    "The model was able to correctly classify the data with a bit over 90% accuracy, which is still quite impressive given the relatively small number of neural networks used. I generated a confusion matrix of the models predictions, and it was able to get most of the predictions right. It was also interesting to see how some of the false predictions the model made were between emotions that were also arguably similar. For example, the model misclassified \"love\" as \"happiness\" or \"\"fear\" and \"anger\", a number of times, which suggests that the model is still, to some capacity, able to identify similarities between positive and negative emotions."
   ]
  },
  {
   "cell_type": "markdown",
   "id": "3fcb2ed5",
   "metadata": {},
   "source": [
    "# Conclusion and Future Directions"
   ]
  },
  {
   "cell_type": "markdown",
   "id": "29b97355",
   "metadata": {},
   "source": [
    "The neural network model was the most successful model in detecting the emotions in the text data. The other algorithms might have performed poorly because of the input format of the data, or even because the parameters where not appropriately fine-tuned. Moreover, such models could perform better when combined with other algorithms and techniques. \n",
    "\n",
    "While the neural network model performed fairly well, it could still be improved by the refining of the current layers or the addition of more layers to the network. One possible improvement would be to use a Bi-directional LSTM (BiLSTM), which is better than a standard LSTM because it considers contextual information in long sequences both directions of flow along the text (forward and backward). Although limits to computational power have prevented me from implementing this, a study on the use of deep neural networks for detection of emotions through text made use of these BiLSTM's (Muhammad A., 2022), and the results seem to be valuable.\n",
    "\n",
    "Finally, the algorithm could be expanded to include an even wider spectrum of emotions with more subtle nuances between them, like embarrassment, shyness, or even neutrality. Of course, with more classes for prediction, the model would have to be more detailed in extracting features from the text, and thus the layers of the neural network model, if used, would need to be better structured and fine-tuned. "
   ]
  },
  {
   "cell_type": "markdown",
   "id": "c316d21b",
   "metadata": {},
   "source": [
    "# References"
   ]
  },
  {
   "cell_type": "markdown",
   "id": "febf2aa7",
   "metadata": {},
   "source": [
    "- Muhammad Zubair Asghar, Adidah Lajis, Muhammad Mansoor Alam, Mohd Khairil Rahmat, Haidawati Mohamad Nasir, Hussain Ahmad, Mabrook S. Al-Rakhami, Atif Al-Amri, Fahad R. Albogamy, \"A Deep Neural Network Model for the Detection and Classification of Emotions from Textual Content\", Complexity, vol. 2022, Article ID 8221121, 12 pages, 2022. https://doi.org/10.1155/2022/8221121\n",
    "- Ishant, J. (2021). Emotions in text. https://www.kaggle.com/datasets/ishantjuyal/emotions-in-text\n",
    "- Fernanda, P. (2021). Emotion_Classification_using_LSTM. https://www.kaggle.com/code/fernandapratama/emotion-classification-using-lstm\n",
    "- Rizki, R. (2021). Emotion in text Classification with LSTM. https://www.kaggle.com/code/rizkiprof/emotion-in-text-classification-with-lstm\n",
    "- Prabhakaran, S. (2018, October 2). Lemmatization Approaches with Examples in Python. Machine Learning Plus. Retrieved April 22, 2022, from https://www.machinelearningplus.com/nlp/lemmatization-examples-python/"
   ]
  },
  {
   "cell_type": "markdown",
   "id": "7d5fdf20",
   "metadata": {},
   "source": [
    "# Appendices"
   ]
  },
  {
   "cell_type": "markdown",
   "id": "cc9f3082",
   "metadata": {},
   "source": [
    "##  Importing Libraries and Installing Packages"
   ]
  },
  {
   "cell_type": "code",
   "execution_count": 1,
   "id": "0550d0b2",
   "metadata": {},
   "outputs": [],
   "source": [
    "# Importing necessary libraries\n",
    "import numpy as np\n",
    "import pandas as pd\n",
    "import matplotlib.pyplot as plt\n",
    "\n",
    "# Libraries for preprocessing text\n",
    "import nltk\n",
    "from nltk.corpus import words, stopwords, wordnet\n",
    "from nltk.stem import WordNetLemmatizer\n",
    "import re\n",
    "import string\n",
    "from sklearn.preprocessing import LabelEncoder\n",
    "from tensorflow.keras.preprocessing.text import Tokenizer\n",
    "from tensorflow.keras.preprocessing.sequence import pad_sequences\n",
    "\n",
    "# Libraries for implementing ML algorithms\n",
    "from sklearn import decomposition\n",
    "from sklearn.discriminant_analysis import LinearDiscriminantAnalysis\n",
    "from sklearn.ensemble import RandomForestClassifier\n",
    "from sklearn.svm import SVC\n",
    "import tensorflow as tf\n",
    "\n",
    "# Libraries for metrics on training and testing data\n",
    "from sklearn.model_selection import train_test_split\n",
    "from sklearn.metrics import classification_report, confusion_matrix, ConfusionMatrixDisplay"
   ]
  },
  {
   "cell_type": "code",
   "execution_count": 2,
   "id": "6d869a9c",
   "metadata": {},
   "outputs": [
    {
     "name": "stderr",
     "output_type": "stream",
     "text": [
      "[nltk_data] Downloading package stopwords to\n",
      "[nltk_data]     C:\\Users\\jesse\\AppData\\Roaming\\nltk_data...\n",
      "[nltk_data]   Package stopwords is already up-to-date!\n",
      "[nltk_data] Downloading package words to\n",
      "[nltk_data]     C:\\Users\\jesse\\AppData\\Roaming\\nltk_data...\n",
      "[nltk_data]   Package words is already up-to-date!\n",
      "[nltk_data] Downloading package wordnet to\n",
      "[nltk_data]     C:\\Users\\jesse\\AppData\\Roaming\\nltk_data...\n",
      "[nltk_data]   Package wordnet is already up-to-date!\n",
      "[nltk_data] Downloading package punkt to\n",
      "[nltk_data]     C:\\Users\\jesse\\AppData\\Roaming\\nltk_data...\n",
      "[nltk_data]   Package punkt is already up-to-date!\n",
      "[nltk_data] Downloading package averaged_perceptron_tagger to\n",
      "[nltk_data]     C:\\Users\\jesse\\AppData\\Roaming\\nltk_data...\n",
      "[nltk_data]   Package averaged_perceptron_tagger is already up-to-\n",
      "[nltk_data]       date!\n"
     ]
    },
    {
     "data": {
      "text/plain": [
       "True"
      ]
     },
     "execution_count": 2,
     "metadata": {},
     "output_type": "execute_result"
    }
   ],
   "source": [
    "nltk.download('stopwords')\n",
    "nltk.download('words')\n",
    "nltk.download('wordnet')\n",
    "nltk.download('punkt')\n",
    "nltk.download('averaged_perceptron_tagger')"
   ]
  },
  {
   "cell_type": "markdown",
   "id": "c72e5257",
   "metadata": {},
   "source": [
    "## Importing and pre-processing data"
   ]
  },
  {
   "cell_type": "code",
   "execution_count": 3,
   "id": "a89845bc",
   "metadata": {
    "execution": {
     "iopub.execute_input": "2021-07-12T04:37:08.657795Z",
     "iopub.status.busy": "2021-07-12T04:37:08.657114Z",
     "iopub.status.idle": "2021-07-12T04:37:08.756456Z",
     "shell.execute_reply": "2021-07-12T04:37:08.755744Z",
     "shell.execute_reply.started": "2021-07-12T04:23:35.665759Z"
    },
    "papermill": {
     "duration": 0.12326,
     "end_time": "2021-07-12T04:37:08.756684",
     "exception": false,
     "start_time": "2021-07-12T04:37:08.633424",
     "status": "completed"
    },
    "tags": []
   },
   "outputs": [
    {
     "data": {
      "text/html": [
       "<div>\n",
       "<style scoped>\n",
       "    .dataframe tbody tr th:only-of-type {\n",
       "        vertical-align: middle;\n",
       "    }\n",
       "\n",
       "    .dataframe tbody tr th {\n",
       "        vertical-align: top;\n",
       "    }\n",
       "\n",
       "    .dataframe thead th {\n",
       "        text-align: right;\n",
       "    }\n",
       "</style>\n",
       "<table border=\"1\" class=\"dataframe\">\n",
       "  <thead>\n",
       "    <tr style=\"text-align: right;\">\n",
       "      <th></th>\n",
       "      <th>Text</th>\n",
       "      <th>Emotion</th>\n",
       "    </tr>\n",
       "  </thead>\n",
       "  <tbody>\n",
       "    <tr>\n",
       "      <th>0</th>\n",
       "      <td>i didnt feel humiliated</td>\n",
       "      <td>sadness</td>\n",
       "    </tr>\n",
       "    <tr>\n",
       "      <th>1</th>\n",
       "      <td>i can go from feeling so hopeless to so damned...</td>\n",
       "      <td>sadness</td>\n",
       "    </tr>\n",
       "    <tr>\n",
       "      <th>2</th>\n",
       "      <td>im grabbing a minute to post i feel greedy wrong</td>\n",
       "      <td>anger</td>\n",
       "    </tr>\n",
       "    <tr>\n",
       "      <th>3</th>\n",
       "      <td>i am ever feeling nostalgic about the fireplac...</td>\n",
       "      <td>love</td>\n",
       "    </tr>\n",
       "    <tr>\n",
       "      <th>4</th>\n",
       "      <td>i am feeling grouchy</td>\n",
       "      <td>anger</td>\n",
       "    </tr>\n",
       "    <tr>\n",
       "      <th>...</th>\n",
       "      <td>...</td>\n",
       "      <td>...</td>\n",
       "    </tr>\n",
       "    <tr>\n",
       "      <th>21454</th>\n",
       "      <td>Melissa stared at her friend in dism</td>\n",
       "      <td>fear</td>\n",
       "    </tr>\n",
       "    <tr>\n",
       "      <th>21455</th>\n",
       "      <td>Successive state elections have seen the gover...</td>\n",
       "      <td>fear</td>\n",
       "    </tr>\n",
       "    <tr>\n",
       "      <th>21456</th>\n",
       "      <td>Vincent was irritated but not dismay</td>\n",
       "      <td>fear</td>\n",
       "    </tr>\n",
       "    <tr>\n",
       "      <th>21457</th>\n",
       "      <td>Kendall-Hume turned back to face the dismayed ...</td>\n",
       "      <td>fear</td>\n",
       "    </tr>\n",
       "    <tr>\n",
       "      <th>21458</th>\n",
       "      <td>I am dismayed , but not surpris</td>\n",
       "      <td>fear</td>\n",
       "    </tr>\n",
       "  </tbody>\n",
       "</table>\n",
       "<p>21459 rows × 2 columns</p>\n",
       "</div>"
      ],
      "text/plain": [
       "                                                    Text  Emotion\n",
       "0                                i didnt feel humiliated  sadness\n",
       "1      i can go from feeling so hopeless to so damned...  sadness\n",
       "2       im grabbing a minute to post i feel greedy wrong    anger\n",
       "3      i am ever feeling nostalgic about the fireplac...     love\n",
       "4                                   i am feeling grouchy    anger\n",
       "...                                                  ...      ...\n",
       "21454               Melissa stared at her friend in dism     fear\n",
       "21455  Successive state elections have seen the gover...     fear\n",
       "21456               Vincent was irritated but not dismay     fear\n",
       "21457  Kendall-Hume turned back to face the dismayed ...     fear\n",
       "21458                    I am dismayed , but not surpris     fear\n",
       "\n",
       "[21459 rows x 2 columns]"
      ]
     },
     "execution_count": 3,
     "metadata": {},
     "output_type": "execute_result"
    }
   ],
   "source": [
    "df = pd.read_csv('Emotion_final.csv')\n",
    "df"
   ]
  },
  {
   "cell_type": "code",
   "execution_count": 4,
   "id": "432f7954",
   "metadata": {},
   "outputs": [
    {
     "data": {
      "text/html": [
       "<div>\n",
       "<style scoped>\n",
       "    .dataframe tbody tr th:only-of-type {\n",
       "        vertical-align: middle;\n",
       "    }\n",
       "\n",
       "    .dataframe tbody tr th {\n",
       "        vertical-align: top;\n",
       "    }\n",
       "\n",
       "    .dataframe thead th {\n",
       "        text-align: right;\n",
       "    }\n",
       "</style>\n",
       "<table border=\"1\" class=\"dataframe\">\n",
       "  <thead>\n",
       "    <tr style=\"text-align: right;\">\n",
       "      <th></th>\n",
       "      <th>Text</th>\n",
       "      <th>Emotion</th>\n",
       "    </tr>\n",
       "  </thead>\n",
       "  <tbody>\n",
       "    <tr>\n",
       "      <th>0</th>\n",
       "      <td>didnt feel humiliate</td>\n",
       "      <td>sadness</td>\n",
       "    </tr>\n",
       "    <tr>\n",
       "      <th>1</th>\n",
       "      <td>go feel hopeless damn hopeful around someone c...</td>\n",
       "      <td>sadness</td>\n",
       "    </tr>\n",
       "    <tr>\n",
       "      <th>2</th>\n",
       "      <td>im grab minute post feel greedy wrong</td>\n",
       "      <td>anger</td>\n",
       "    </tr>\n",
       "    <tr>\n",
       "      <th>3</th>\n",
       "      <td>ever feel nostalgic fireplace know still property</td>\n",
       "      <td>love</td>\n",
       "    </tr>\n",
       "    <tr>\n",
       "      <th>4</th>\n",
       "      <td>feel grouchy</td>\n",
       "      <td>anger</td>\n",
       "    </tr>\n",
       "  </tbody>\n",
       "</table>\n",
       "</div>"
      ],
      "text/plain": [
       "                                                Text  Emotion\n",
       "0                               didnt feel humiliate  sadness\n",
       "1  go feel hopeless damn hopeful around someone c...  sadness\n",
       "2              im grab minute post feel greedy wrong    anger\n",
       "3  ever feel nostalgic fireplace know still property     love\n",
       "4                                       feel grouchy    anger"
      ]
     },
     "execution_count": 4,
     "metadata": {},
     "output_type": "execute_result"
    }
   ],
   "source": [
    "lemmatizer = WordNetLemmatizer()\n",
    "stop_words = stopwords.words(\"english\")\n",
    "\n",
    "# Function to clean the text data\n",
    "def clean(text):\n",
    "    # Remove all the urls, user tags, hashtags, and html tages  \n",
    "    text = re.sub(r'http\\S+', \" \", text)    \n",
    "    text = re.sub(r'@\\w+',' ',text)         \n",
    "    text = re.sub(r'#\\w+', ' ', text)       \n",
    "    text = re.sub('r<.*?>',' ', text)       \n",
    "    \n",
    "    # remove stopwords \n",
    "    text = text.split()\n",
    "    text = \" \".join([word for word in text if not word in stop_words])\n",
    "\n",
    "    # Remove punctioations from the text\n",
    "    for punc in string.punctuation:\n",
    "        text = text.replace(punc, \"\")\n",
    "    \n",
    "    return text\n",
    "\n",
    "# Obtain the appropriate \"Part-Of-Speech\" tag for each word for appropriate lemmatization\n",
    "# Code snippet from https://www.machinelearningplus.com/nlp/lemmatization-examples-python/\n",
    "tag_dict = {\"J\": wordnet.ADJ, \"N\": wordnet.NOUN, \"V\": wordnet.VERB, \"R\": wordnet.ADV}\n",
    "def get_wordnet_pos(word):\n",
    "    \"\"\"Map POS tag to first character lemmatize() accepts\"\"\"\n",
    "    tag = nltk.pos_tag([word])[0][1][0].upper()\n",
    "    return tag_dict.get(tag, wordnet.NOUN)\n",
    "\n",
    "# Lemmatize the text by converting the words to their base form: e.g. \"deployment\" and \"deployed\" will both be converted to \"deploy\"\n",
    "def lemmatize(text):\n",
    "    new_text = []\n",
    "    tokenization = nltk.word_tokenize(text)\n",
    "    for w in tokenization:\n",
    "        tmp_w = lemmatizer.lemmatize(w, get_wordnet_pos(w))\n",
    "        if tmp_w is None:\n",
    "            new_text.append(w)\n",
    "        else:\n",
    "            new_text.append(tmp_w)\n",
    "    return \" \".join(new_text)\n",
    "\n",
    "def preprocess_input(string):\n",
    "    string = clean(string)\n",
    "    string = lemmatize(string)\n",
    "    return string\n",
    "    \n",
    "df['Text'] = df['Text'].apply(lambda x: preprocess_input(x))\n",
    "df.head()"
   ]
  },
  {
   "cell_type": "code",
   "execution_count": 5,
   "id": "dfa72962",
   "metadata": {
    "execution": {
     "iopub.execute_input": "2021-07-12T04:37:08.946458Z",
     "iopub.status.busy": "2021-07-12T04:37:08.945938Z",
     "iopub.status.idle": "2021-07-12T04:37:08.971977Z",
     "shell.execute_reply": "2021-07-12T04:37:08.971507Z",
     "shell.execute_reply.started": "2021-07-12T04:24:15.715140Z"
    },
    "papermill": {
     "duration": 0.049464,
     "end_time": "2021-07-12T04:37:08.972086",
     "exception": false,
     "start_time": "2021-07-12T04:37:08.922622",
     "status": "completed"
    },
    "tags": []
   },
   "outputs": [
    {
     "data": {
      "text/html": [
       "<div>\n",
       "<style scoped>\n",
       "    .dataframe tbody tr th:only-of-type {\n",
       "        vertical-align: middle;\n",
       "    }\n",
       "\n",
       "    .dataframe tbody tr th {\n",
       "        vertical-align: top;\n",
       "    }\n",
       "\n",
       "    .dataframe thead th {\n",
       "        text-align: right;\n",
       "    }\n",
       "</style>\n",
       "<table border=\"1\" class=\"dataframe\">\n",
       "  <thead>\n",
       "    <tr style=\"text-align: right;\">\n",
       "      <th></th>\n",
       "      <th>Text</th>\n",
       "      <th>Emotion</th>\n",
       "      <th>anger</th>\n",
       "      <th>fear</th>\n",
       "      <th>happiness</th>\n",
       "      <th>love</th>\n",
       "      <th>sadness</th>\n",
       "      <th>surprise</th>\n",
       "      <th>Label</th>\n",
       "    </tr>\n",
       "  </thead>\n",
       "  <tbody>\n",
       "    <tr>\n",
       "      <th>0</th>\n",
       "      <td>didnt feel humiliate</td>\n",
       "      <td>sadness</td>\n",
       "      <td>0</td>\n",
       "      <td>0</td>\n",
       "      <td>0</td>\n",
       "      <td>0</td>\n",
       "      <td>1</td>\n",
       "      <td>0</td>\n",
       "      <td>4</td>\n",
       "    </tr>\n",
       "    <tr>\n",
       "      <th>1</th>\n",
       "      <td>go feel hopeless damn hopeful around someone c...</td>\n",
       "      <td>sadness</td>\n",
       "      <td>0</td>\n",
       "      <td>0</td>\n",
       "      <td>0</td>\n",
       "      <td>0</td>\n",
       "      <td>1</td>\n",
       "      <td>0</td>\n",
       "      <td>4</td>\n",
       "    </tr>\n",
       "    <tr>\n",
       "      <th>2</th>\n",
       "      <td>im grab minute post feel greedy wrong</td>\n",
       "      <td>anger</td>\n",
       "      <td>1</td>\n",
       "      <td>0</td>\n",
       "      <td>0</td>\n",
       "      <td>0</td>\n",
       "      <td>0</td>\n",
       "      <td>0</td>\n",
       "      <td>0</td>\n",
       "    </tr>\n",
       "    <tr>\n",
       "      <th>3</th>\n",
       "      <td>ever feel nostalgic fireplace know still property</td>\n",
       "      <td>love</td>\n",
       "      <td>0</td>\n",
       "      <td>0</td>\n",
       "      <td>0</td>\n",
       "      <td>1</td>\n",
       "      <td>0</td>\n",
       "      <td>0</td>\n",
       "      <td>3</td>\n",
       "    </tr>\n",
       "    <tr>\n",
       "      <th>4</th>\n",
       "      <td>feel grouchy</td>\n",
       "      <td>anger</td>\n",
       "      <td>1</td>\n",
       "      <td>0</td>\n",
       "      <td>0</td>\n",
       "      <td>0</td>\n",
       "      <td>0</td>\n",
       "      <td>0</td>\n",
       "      <td>0</td>\n",
       "    </tr>\n",
       "    <tr>\n",
       "      <th>...</th>\n",
       "      <td>...</td>\n",
       "      <td>...</td>\n",
       "      <td>...</td>\n",
       "      <td>...</td>\n",
       "      <td>...</td>\n",
       "      <td>...</td>\n",
       "      <td>...</td>\n",
       "      <td>...</td>\n",
       "      <td>...</td>\n",
       "    </tr>\n",
       "    <tr>\n",
       "      <th>21454</th>\n",
       "      <td>Melissa star friend dism</td>\n",
       "      <td>fear</td>\n",
       "      <td>0</td>\n",
       "      <td>1</td>\n",
       "      <td>0</td>\n",
       "      <td>0</td>\n",
       "      <td>0</td>\n",
       "      <td>0</td>\n",
       "      <td>1</td>\n",
       "    </tr>\n",
       "    <tr>\n",
       "      <th>21455</th>\n",
       "      <td>Successive state election see govern party pum...</td>\n",
       "      <td>fear</td>\n",
       "      <td>0</td>\n",
       "      <td>1</td>\n",
       "      <td>0</td>\n",
       "      <td>0</td>\n",
       "      <td>0</td>\n",
       "      <td>0</td>\n",
       "      <td>1</td>\n",
       "    </tr>\n",
       "    <tr>\n",
       "      <th>21456</th>\n",
       "      <td>Vincent irritated dismay</td>\n",
       "      <td>fear</td>\n",
       "      <td>0</td>\n",
       "      <td>1</td>\n",
       "      <td>0</td>\n",
       "      <td>0</td>\n",
       "      <td>0</td>\n",
       "      <td>0</td>\n",
       "      <td>1</td>\n",
       "    </tr>\n",
       "    <tr>\n",
       "      <th>21457</th>\n",
       "      <td>KendallHume turn back face dismayed coup</td>\n",
       "      <td>fear</td>\n",
       "      <td>0</td>\n",
       "      <td>1</td>\n",
       "      <td>0</td>\n",
       "      <td>0</td>\n",
       "      <td>0</td>\n",
       "      <td>0</td>\n",
       "      <td>1</td>\n",
       "    </tr>\n",
       "    <tr>\n",
       "      <th>21458</th>\n",
       "      <td>I dismayed surpris</td>\n",
       "      <td>fear</td>\n",
       "      <td>0</td>\n",
       "      <td>1</td>\n",
       "      <td>0</td>\n",
       "      <td>0</td>\n",
       "      <td>0</td>\n",
       "      <td>0</td>\n",
       "      <td>1</td>\n",
       "    </tr>\n",
       "  </tbody>\n",
       "</table>\n",
       "<p>21459 rows × 9 columns</p>\n",
       "</div>"
      ],
      "text/plain": [
       "                                                    Text  Emotion  anger  \\\n",
       "0                                   didnt feel humiliate  sadness      0   \n",
       "1      go feel hopeless damn hopeful around someone c...  sadness      0   \n",
       "2                  im grab minute post feel greedy wrong    anger      1   \n",
       "3      ever feel nostalgic fireplace know still property     love      0   \n",
       "4                                           feel grouchy    anger      1   \n",
       "...                                                  ...      ...    ...   \n",
       "21454                           Melissa star friend dism     fear      0   \n",
       "21455  Successive state election see govern party pum...     fear      0   \n",
       "21456                           Vincent irritated dismay     fear      0   \n",
       "21457           KendallHume turn back face dismayed coup     fear      0   \n",
       "21458                                 I dismayed surpris     fear      0   \n",
       "\n",
       "       fear  happiness  love  sadness  surprise  Label  \n",
       "0         0          0     0        1         0      4  \n",
       "1         0          0     0        1         0      4  \n",
       "2         0          0     0        0         0      0  \n",
       "3         0          0     1        0         0      3  \n",
       "4         0          0     0        0         0      0  \n",
       "...     ...        ...   ...      ...       ...    ...  \n",
       "21454     1          0     0        0         0      1  \n",
       "21455     1          0     0        0         0      1  \n",
       "21456     1          0     0        0         0      1  \n",
       "21457     1          0     0        0         0      1  \n",
       "21458     1          0     0        0         0      1  \n",
       "\n",
       "[21459 rows x 9 columns]"
      ]
     },
     "execution_count": 5,
     "metadata": {},
     "output_type": "execute_result"
    }
   ],
   "source": [
    "# Extract the different class labels from the data and vectorize the labels using get_dummies\n",
    "encoder = LabelEncoder()\n",
    "category = pd.get_dummies(df.Emotion)\n",
    "df_new = pd.concat([df, category], axis=1)\n",
    "df_new['Label'] = encoder.fit_transform(df['Emotion'])\n",
    "df_new.rename(columns={\"happy\":\"happiness\"}, inplace=True)\n",
    "df_new"
   ]
  },
  {
   "cell_type": "code",
   "execution_count": 35,
   "id": "4773e4ee",
   "metadata": {},
   "outputs": [
    {
     "name": "stdout",
     "output_type": "stream",
     "text": [
      "['sadness' 'anger' 'love' 'surprise' 'fear' 'happiness']\n"
     ]
    }
   ],
   "source": [
    "# Obtain each of the classes in the data\n",
    "# There are 6 classes: sadness, anger, love, surprise, fear, and happiness\n",
    "classes = df.Emotion.unique()\n",
    "classes[classes == 'happy'] = 'happiness'\n",
    "print(classes)"
   ]
  },
  {
   "cell_type": "code",
   "execution_count": 36,
   "id": "a88ace21",
   "metadata": {
    "execution": {
     "iopub.execute_input": "2021-07-12T04:37:08.998039Z",
     "iopub.status.busy": "2021-07-12T04:37:08.997119Z",
     "iopub.status.idle": "2021-07-12T04:37:09.000503Z",
     "shell.execute_reply": "2021-07-12T04:37:09.001055Z",
     "shell.execute_reply.started": "2021-07-12T04:24:24.547627Z"
    },
    "papermill": {
     "duration": 0.01996,
     "end_time": "2021-07-12T04:37:09.001231",
     "exception": false,
     "start_time": "2021-07-12T04:37:08.981271",
     "status": "completed"
    },
    "tags": []
   },
   "outputs": [],
   "source": [
    "X = df_new['Text'].values\n",
    "labels = df_new['Label'].values"
   ]
  },
  {
   "cell_type": "code",
   "execution_count": 8,
   "id": "26d68f38",
   "metadata": {
    "execution": {
     "iopub.execute_input": "2021-07-12T04:37:10.192103Z",
     "iopub.status.busy": "2021-07-12T04:37:10.191591Z",
     "iopub.status.idle": "2021-07-12T04:37:18.764778Z",
     "shell.execute_reply": "2021-07-12T04:37:18.764237Z",
     "shell.execute_reply.started": "2021-07-12T04:26:09.854874Z"
    },
    "papermill": {
     "duration": 8.589992,
     "end_time": "2021-07-12T04:37:18.764904",
     "exception": false,
     "start_time": "2021-07-12T04:37:10.174912",
     "status": "completed"
    },
    "tags": []
   },
   "outputs": [],
   "source": [
    "# Tokenizer function for converting the textual data to numerical data for the models to work with\n",
    "def tokenizer(text):\n",
    "    tokenizer = Tokenizer(num_words=2000, oov_token='x')\n",
    "    tokenizer.fit_on_texts(text)\n",
    "    sequence = tokenizer.texts_to_sequences(text)\n",
    "    padded = pad_sequences(sequence) \n",
    "\n",
    "    return padded\n",
    "\n",
    "padded_X = tokenizer(X)"
   ]
  },
  {
   "cell_type": "code",
   "execution_count": 56,
   "id": "5ee1856a",
   "metadata": {},
   "outputs": [],
   "source": [
    "# Splitting data in to an 80-20 train-test split to avoid overfitting and maximize accuracy on the testing data\n",
    "X_train, X_test, Y_train, Y_test = train_test_split(padded_X, labels, test_size=0.2, random_state=42)"
   ]
  },
  {
   "cell_type": "markdown",
   "id": "583e47fb",
   "metadata": {},
   "source": [
    "## SVC with RBF Kernel "
   ]
  },
  {
   "cell_type": "code",
   "execution_count": 50,
   "id": "66e1129c",
   "metadata": {},
   "outputs": [
    {
     "name": "stdout",
     "output_type": "stream",
     "text": [
      "SVM with RBF Kernel Classification Report\n",
      "              precision    recall  f1-score   support\n",
      "\n",
      "           0       0.00      0.00      0.00       617\n",
      "           1       0.00      0.00      0.00       531\n",
      "           2       0.33      0.76      0.46      1381\n",
      "           3       0.00      0.00      0.00       318\n",
      "           4       0.35      0.31      0.33      1277\n",
      "           5       0.00      0.00      0.00       168\n",
      "\n",
      "    accuracy                           0.34      4292\n",
      "   macro avg       0.11      0.18      0.13      4292\n",
      "weighted avg       0.21      0.34      0.25      4292\n",
      "\n"
     ]
    }
   ],
   "source": [
    "#SVM classifier with rbf kernel\n",
    "rbf_svc = SVC(C = 1, kernel=\"rbf\")\n",
    "rbf_svc.fit(X_train, Y_train)\n",
    "\n",
    "predictions = rbf_svc.predict(X_test)\n",
    "print(\"SVM with RBF Kernel Classification Report\")\n",
    "print(classification_report(Y_test, predictions, zero_division=0))"
   ]
  },
  {
   "cell_type": "markdown",
   "id": "2bf4e277",
   "metadata": {},
   "source": [
    "## Principal Component Analysis with SVC"
   ]
  },
  {
   "cell_type": "code",
   "execution_count": 57,
   "id": "6d86fb92",
   "metadata": {},
   "outputs": [
    {
     "name": "stdout",
     "output_type": "stream",
     "text": [
      "Classification Report on Testing Data\n",
      "              precision    recall  f1-score   support\n",
      "\n",
      "           0       0.00      0.00      0.00       617\n",
      "           1       0.00      0.00      0.00       531\n",
      "           2       0.33      0.75      0.46      1381\n",
      "           3       0.00      0.00      0.00       318\n",
      "           4       0.34      0.31      0.32      1277\n",
      "           5       0.00      0.00      0.00       168\n",
      "\n",
      "    accuracy                           0.33      4292\n",
      "   macro avg       0.11      0.18      0.13      4292\n",
      "weighted avg       0.21      0.33      0.24      4292\n",
      "\n"
     ]
    }
   ],
   "source": [
    "pca = decomposition.PCA(n_components=0.9)\n",
    "pca.fit(X_train)\n",
    "\n",
    "clf_PCA = SVC(C = 1, kernel=\"rbf\")\n",
    "PCA_X_train = pca.transform(X_train)\n",
    "PCA_X_test = pca.transform(X_test)\n",
    "clf_PCA.fit(PCA_X_train, Y_train)\n",
    "\n",
    "PCA_predictions = clf_PCA.predict(PCA_X_test)\n",
    "print(\"Classification Report on Testing Data\")\n",
    "print(classification_report(Y_test, PCA_predictions, zero_division=0))"
   ]
  },
  {
   "cell_type": "markdown",
   "id": "7c158a86",
   "metadata": {},
   "source": [
    "## Linear Discriminant Analysis with SVC classification"
   ]
  },
  {
   "cell_type": "code",
   "execution_count": 58,
   "id": "833a6fdf",
   "metadata": {},
   "outputs": [
    {
     "name": "stdout",
     "output_type": "stream",
     "text": [
      "Classification Report on Testing Data\n",
      "              precision    recall  f1-score   support\n",
      "\n",
      "           0       0.00      0.00      0.00       617\n",
      "           1       0.00      0.00      0.00       531\n",
      "           2       0.34      0.80      0.47      1381\n",
      "           3       0.00      0.00      0.00       318\n",
      "           4       0.35      0.29      0.32      1277\n",
      "           5       0.00      0.00      0.00       168\n",
      "\n",
      "    accuracy                           0.34      4292\n",
      "   macro avg       0.12      0.18      0.13      4292\n",
      "weighted avg       0.21      0.34      0.25      4292\n",
      "\n"
     ]
    }
   ],
   "source": [
    "lda = LinearDiscriminantAnalysis(n_components=3)\n",
    "lda.fit(X_train, Y_train)\n",
    "\n",
    "LDA_X_train = lda.transform(X_train)\n",
    "LDA_X_test = lda.transform(X_test)\n",
    "\n",
    "clf_LDA = SVC(C = 1, kernel=\"rbf\")\n",
    "clf_LDA.fit(LDA_X_train, Y_train)\n",
    "\n",
    "LDA_predictions = clf_LDA.predict(LDA_X_test)\n",
    "print(\"Classification Report on Testing Data\")\n",
    "print(classification_report(Y_test, LDA_predictions, zero_division=0))"
   ]
  },
  {
   "cell_type": "markdown",
   "id": "608e9ddc",
   "metadata": {},
   "source": [
    "## Random Forest Classification"
   ]
  },
  {
   "cell_type": "code",
   "execution_count": 59,
   "id": "5d6fa40d",
   "metadata": {},
   "outputs": [
    {
     "name": "stdout",
     "output_type": "stream",
     "text": [
      "Classification Report on Testing Data\n",
      "              precision    recall  f1-score   support\n",
      "\n",
      "           0       0.32      0.07      0.12       617\n",
      "           1       0.30      0.07      0.12       531\n",
      "           2       0.36      0.66      0.46      1381\n",
      "           3       0.25      0.03      0.05       318\n",
      "           4       0.35      0.40      0.37      1277\n",
      "           5       0.25      0.04      0.06       168\n",
      "\n",
      "    accuracy                           0.35      4292\n",
      "   macro avg       0.31      0.21      0.20      4292\n",
      "weighted avg       0.33      0.35      0.30      4292\n",
      "\n"
     ]
    }
   ],
   "source": [
    "clf_rfc = RandomForestClassifier()\n",
    "clf_rfc.fit(X_train, Y_train)\n",
    "predictions = clf_rfc.predict(X_test)\n",
    "print(\"Classification Report on Testing Data\")\n",
    "print(classification_report(Y_test, predictions, zero_division=0))"
   ]
  },
  {
   "cell_type": "markdown",
   "id": "a10d2865",
   "metadata": {},
   "source": [
    "# Neural Network Model (Using LSTM)"
   ]
  },
  {
   "cell_type": "code",
   "execution_count": 103,
   "id": "ef27a523",
   "metadata": {
    "execution": {
     "iopub.execute_input": "2021-07-12T04:37:09.035485Z",
     "iopub.status.busy": "2021-07-12T04:37:09.034710Z",
     "iopub.status.idle": "2021-07-12T04:37:10.165234Z",
     "shell.execute_reply": "2021-07-12T04:37:10.164813Z",
     "shell.execute_reply.started": "2021-07-12T04:24:54.503932Z"
    },
    "papermill": {
     "duration": 1.149679,
     "end_time": "2021-07-12T04:37:10.165352",
     "exception": false,
     "start_time": "2021-07-12T04:37:09.015673",
     "status": "completed"
    },
    "tags": []
   },
   "outputs": [],
   "source": [
    "Y = df_new[classes].values\n",
    "\n",
    "# Splitting the data into an 80-20 train-test split (to avoid overfitting on the training data by maximizing accuracy on the testing data)\n",
    "X_train, X_test, Y_train, Y_test = train_test_split(padded_X, Y, test_size=0.2, random_state=42)"
   ]
  },
  {
   "cell_type": "code",
   "execution_count": 106,
   "id": "bf926ec1",
   "metadata": {
    "execution": {
     "iopub.execute_input": "2021-07-12T04:37:18.791760Z",
     "iopub.status.busy": "2021-07-12T04:37:18.791176Z",
     "iopub.status.idle": "2021-07-12T04:37:19.273637Z",
     "shell.execute_reply": "2021-07-12T04:37:19.273192Z",
     "shell.execute_reply.started": "2021-07-12T04:26:12.752056Z"
    },
    "papermill": {
     "duration": 0.499151,
     "end_time": "2021-07-12T04:37:19.273753",
     "exception": false,
     "start_time": "2021-07-12T04:37:18.774602",
     "status": "completed"
    },
    "tags": []
   },
   "outputs": [],
   "source": [
    "model = tf.keras.Sequential([\n",
    "    tf.keras.layers.Embedding(input_dim=2000, output_dim=16),\n",
    "    tf.keras.layers.LSTM(64),\n",
    "    # A potential improvement would be to use a bi-directional LSTM layer instead of a unidirectional one\n",
    "    # tf.keras.layers.Bidirectional(tf.keras.layers.LSTM(64, return_sequences=True, recurrent_dropout=0.4)),\n",
    "    # tf.keras.layers.GlobalAveragePooling1D(),\n",
    "\n",
    "    tf.keras.layers.Dense(128, activation='relu'),\n",
    "    tf.keras.layers.Dense(64, activation='relu'),\n",
    "    tf.keras.layers.Dense(6, activation='softmax')\n",
    "])\n",
    "model.compile(loss='categorical_crossentropy',optimizer='adam',metrics=['accuracy'])"
   ]
  },
  {
   "cell_type": "code",
   "execution_count": 107,
   "id": "0acccc3f",
   "metadata": {},
   "outputs": [
    {
     "name": "stdout",
     "output_type": "stream",
     "text": [
      "Model: \"sequential_12\"\n",
      "_________________________________________________________________\n",
      " Layer (type)                Output Shape              Param #   \n",
      "=================================================================\n",
      " embedding_12 (Embedding)    (None, None, 16)          32000     \n",
      "                                                                 \n",
      " lstm_12 (LSTM)              (None, 64)                20736     \n",
      "                                                                 \n",
      " dense_36 (Dense)            (None, 128)               8320      \n",
      "                                                                 \n",
      " dense_37 (Dense)            (None, 64)                8256      \n",
      "                                                                 \n",
      " dense_38 (Dense)            (None, 6)                 390       \n",
      "                                                                 \n",
      "=================================================================\n",
      "Total params: 69,702\n",
      "Trainable params: 69,702\n",
      "Non-trainable params: 0\n",
      "_________________________________________________________________\n"
     ]
    }
   ],
   "source": [
    "model.summary()"
   ]
  },
  {
   "cell_type": "code",
   "execution_count": 108,
   "id": "2dd1537d",
   "metadata": {},
   "outputs": [],
   "source": [
    "class Callback(tf.keras.callbacks.Callback):\n",
    "  def on_epoch_end(self, epoch, logs={}):\n",
    "    # Stop the model training once the testing accuracy is greater than 90% \n",
    "    if (logs.get('val_accuracy') > 0.90):\n",
    "      print(\"\\nAccuracy on testing data > 90%!\")\n",
    "      self.model.stop_training = True\n",
    "callbacks = Callback()"
   ]
  },
  {
   "cell_type": "code",
   "execution_count": 109,
   "id": "02d339c5",
   "metadata": {
    "execution": {
     "iopub.execute_input": "2021-07-12T04:37:19.328712Z",
     "iopub.status.busy": "2021-07-12T04:37:19.328208Z",
     "iopub.status.idle": "2021-07-12T04:41:33.064706Z",
     "shell.execute_reply": "2021-07-12T04:41:33.064264Z",
     "shell.execute_reply.started": "2021-07-12T04:26:38.385093Z"
    },
    "papermill": {
     "duration": 253.751508,
     "end_time": "2021-07-12T04:41:33.064813",
     "exception": false,
     "start_time": "2021-07-12T04:37:19.313305",
     "status": "completed"
    },
    "tags": []
   },
   "outputs": [
    {
     "name": "stdout",
     "output_type": "stream",
     "text": [
      "Epoch 1/10\n",
      "1073/1073 [==============================] - 22s 18ms/step - loss: 1.0894 - accuracy: 0.5656 - val_loss: 0.5508 - val_accuracy: 0.8006\n",
      "Epoch 2/10\n",
      "1073/1073 [==============================] - 19s 18ms/step - loss: 0.4174 - accuracy: 0.8507 - val_loss: 0.3573 - val_accuracy: 0.8747\n",
      "Epoch 3/10\n",
      "1073/1073 [==============================] - 24s 22ms/step - loss: 0.2780 - accuracy: 0.8987 - val_loss: 0.3267 - val_accuracy: 0.8814\n",
      "Epoch 4/10\n",
      "1072/1073 [============================>.] - ETA: 0s - loss: 0.2207 - accuracy: 0.9201\n",
      "Accuracy on testing data > 90%!\n",
      "1073/1073 [==============================] - 24s 22ms/step - loss: 0.2207 - accuracy: 0.9201 - val_loss: 0.2744 - val_accuracy: 0.9021\n"
     ]
    }
   ],
   "source": [
    "num_epochs = 10\n",
    "history = model.fit(X_train, Y_train, epochs=num_epochs, batch_size=16, validation_data=(X_test, Y_test), verbose=1, callbacks=[callbacks])"
   ]
  },
  {
   "cell_type": "code",
   "execution_count": 110,
   "id": "4111ab87",
   "metadata": {},
   "outputs": [
    {
     "name": "stdout",
     "output_type": "stream",
     "text": [
      "135/135 [==============================] - 1s 9ms/step - loss: 0.2744 - accuracy: 0.9021\n",
      "Accuracy of neural network model on testing data = 0.9021435379981995\n",
      "Cross entropy score (Loss) = 0.2744296193122864\n"
     ]
    }
   ],
   "source": [
    "ce_score, accuracy = model.evaluate(X_test, Y_test)\n",
    "print('Accuracy of neural network model on testing data =', accuracy)\n",
    "print('Cross entropy score (Loss) =', ce_score)"
   ]
  },
  {
   "cell_type": "code",
   "execution_count": 111,
   "id": "d22e030c",
   "metadata": {},
   "outputs": [
    {
     "name": "stdout",
     "output_type": "stream",
     "text": [
      "              precision    recall  f1-score   support\n",
      "\n",
      "           0       0.94      0.95      0.94      1277\n",
      "           1       0.89      0.90      0.90       617\n",
      "           2       0.77      0.82      0.79       318\n",
      "           3       0.75      0.73      0.74       168\n",
      "           4       0.88      0.86      0.87       531\n",
      "           5       0.93      0.92      0.92      1381\n",
      "\n",
      "    accuracy                           0.90      4292\n",
      "   macro avg       0.86      0.86      0.86      4292\n",
      "weighted avg       0.90      0.90      0.90      4292\n",
      "\n"
     ]
    }
   ],
   "source": [
    "predictions = model.predict(X_test)\n",
    "\n",
    "prediction = []\n",
    "for pred in predictions:\n",
    "    index = np.argmax(pred)\n",
    "    prediction.append(index)\n",
    "prediction = np.array(prediction).flatten()\n",
    "\n",
    "Y_test_classes = []\n",
    "for classif in Y_test:\n",
    "    Y_test_classes.append(np.argwhere(classif))\n",
    "Y_test_classes = np.array(Y_test_classes).flatten()\n",
    "\n",
    "print(classification_report(Y_test_classes, prediction))"
   ]
  },
  {
   "cell_type": "code",
   "execution_count": 112,
   "id": "ed99b6f8",
   "metadata": {},
   "outputs": [
    {
     "data": {
      "image/png": "[encoded data removed]",
      "text/plain": [
       "<Figure size 432x288 with 2 Axes>"
      ]
     },
     "metadata": {
      "needs_background": "light"
     },
     "output_type": "display_data"
    }
   ],
   "source": [
    "cm = confusion_matrix(Y_test_classes, prediction)\n",
    "disp = ConfusionMatrixDisplay(confusion_matrix=cm, display_labels=classes)\n",
    "disp.plot()\n",
    "plt.show()"
   ]
  },
  {
   "cell_type": "code",
   "execution_count": 113,
   "id": "1eaab854",
   "metadata": {
    "execution": {
     "iopub.execute_input": "2021-07-12T04:41:33.100856Z",
     "iopub.status.busy": "2021-07-12T04:41:33.098624Z",
     "iopub.status.idle": "2021-07-12T04:41:33.291666Z",
     "shell.execute_reply": "2021-07-12T04:41:33.290990Z",
     "shell.execute_reply.started": "2021-07-12T04:33:06.163730Z"
    },
    "papermill": {
     "duration": 0.213437,
     "end_time": "2021-07-12T04:41:33.291799",
     "exception": false,
     "start_time": "2021-07-12T04:41:33.078362",
     "status": "completed"
    },
    "tags": []
   },
   "outputs": [
    {
     "data": {
      "image/png": "[encoded data removed]",
      "text/plain": [
       "<Figure size 432x288 with 1 Axes>"
      ]
     },
     "metadata": {
      "needs_background": "light"
     },
     "output_type": "display_data"
    }
   ],
   "source": [
    "plt.plot(history.history['accuracy'])\n",
    "plt.plot(history.history['val_accuracy'])\n",
    "plt.title('Model accuracy')\n",
    "plt.ylabel('Accuracy')\n",
    "plt.xlabel('Epoch')\n",
    "plt.legend(['Train', 'Validation'], loc='lower right')\n",
    "plt.show()"
   ]
  },
  {
   "cell_type": "code",
   "execution_count": 114,
   "id": "b118c040",
   "metadata": {
    "execution": {
     "iopub.execute_input": "2021-07-12T04:41:33.394439Z",
     "iopub.status.busy": "2021-07-12T04:41:33.357391Z",
     "iopub.status.idle": "2021-07-12T04:41:33.497800Z",
     "shell.execute_reply": "2021-07-12T04:41:33.497205Z",
     "shell.execute_reply.started": "2021-07-12T04:33:06.757012Z"
    },
    "papermill": {
     "duration": 0.185002,
     "end_time": "2021-07-12T04:41:33.497953",
     "exception": false,
     "start_time": "2021-07-12T04:41:33.312951",
     "status": "completed"
    },
    "tags": []
   },
   "outputs": [
    {
     "data": {
      "image/png": "[encoded data removed]",
      "text/plain": [
       "<Figure size 432x288 with 1 Axes>"
      ]
     },
     "metadata": {
      "needs_background": "light"
     },
     "output_type": "display_data"
    }
   ],
   "source": [
    "plt.plot(history.history['loss'])\n",
    "plt.plot(history.history['val_loss'])\n",
    "plt.title('Model Loss')\n",
    "plt.ylabel('loss')\n",
    "plt.xlabel('Epoch')\n",
    "plt.legend(['Train', 'Validation'], loc='lower right')\n",
    "plt.show()"
   ]
  }
 ],
 "metadata": {
  "kernelspec": {
   "display_name": "Python 3",
   "language": "python",
   "name": "python3"
  },
  "language_info": {
   "codemirror_mode": {
    "name": "ipython",
    "version": 3
   },
   "file_extension": ".py",
   "mimetype": "text/x-python",
   "name": "python",
   "nbconvert_exporter": "python",
   "pygments_lexer": "ipython3",
   "version": "3.9.7"
  },
  "papermill": {
   "default_parameters": {},
   "duration": 276.999279,
   "end_time": "2021-07-12T04:41:35.758432",
   "environment_variables": {},
   "exception": null,
   "input_path": "__notebook__.ipynb",
   "output_path": "__notebook__.ipynb",
   "parameters": {},
   "start_time": "2021-07-12T04:36:58.759153",
   "version": "2.3.3"
  }
 },
 "nbformat": 4,
 "nbformat_minor": 5
}
